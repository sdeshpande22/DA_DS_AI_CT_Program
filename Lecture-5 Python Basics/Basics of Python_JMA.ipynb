{
 "cells": [
  {
   "cell_type": "markdown",
   "id": "90591554",
   "metadata": {},
   "source": [
    "# Python Basics"
   ]
  },
  {
   "cell_type": "markdown",
   "id": "901dfd54",
   "metadata": {},
   "source": [
    "Python is commonly used for developing websites and software, task automation, data analysis, and data visualisation."
   ]
  },
  {
   "cell_type": "code",
   "execution_count": 1,
   "id": "25cae0ff",
   "metadata": {},
   "outputs": [
    {
     "data": {
      "text/plain": [
       "690"
      ]
     },
     "execution_count": 1,
     "metadata": {},
     "output_type": "execute_result"
    }
   ],
   "source": [
    "234+456"
   ]
  },
  {
   "cell_type": "code",
   "execution_count": 4,
   "id": "5c63f88e",
   "metadata": {},
   "outputs": [
    {
     "data": {
      "text/plain": [
       "5.2"
      ]
     },
     "execution_count": 4,
     "metadata": {},
     "output_type": "execute_result"
    }
   ],
   "source": [
    "234/45"
   ]
  },
  {
   "cell_type": "code",
   "execution_count": 6,
   "id": "aa51e1dc",
   "metadata": {},
   "outputs": [
    {
     "name": "stdout",
     "output_type": "stream",
     "text": [
      "Hello BEPEC\n"
     ]
    }
   ],
   "source": [
    "print(\"Hello BEPEC\")"
   ]
  },
  {
   "cell_type": "code",
   "execution_count": 7,
   "id": "6461dcad",
   "metadata": {},
   "outputs": [
    {
     "data": {
      "text/plain": [
       "10"
      ]
     },
     "execution_count": 7,
     "metadata": {},
     "output_type": "execute_result"
    }
   ],
   "source": [
    "#Value\n",
    "10"
   ]
  },
  {
   "cell_type": "code",
   "execution_count": 8,
   "id": "2370d19e",
   "metadata": {},
   "outputs": [
    {
     "data": {
      "text/plain": [
       "int"
      ]
     },
     "execution_count": 8,
     "metadata": {},
     "output_type": "execute_result"
    }
   ],
   "source": [
    "type(10)"
   ]
  },
  {
   "cell_type": "code",
   "execution_count": 9,
   "id": "40deb96c",
   "metadata": {},
   "outputs": [
    {
     "data": {
      "text/plain": [
       "float"
      ]
     },
     "execution_count": 9,
     "metadata": {},
     "output_type": "execute_result"
    }
   ],
   "source": [
    "type(10.2)"
   ]
  },
  {
   "cell_type": "code",
   "execution_count": 10,
   "id": "e348d9d5",
   "metadata": {},
   "outputs": [
    {
     "data": {
      "text/plain": [
       "'10.2'"
      ]
     },
     "execution_count": 10,
     "metadata": {},
     "output_type": "execute_result"
    }
   ],
   "source": [
    "\"10.2\""
   ]
  },
  {
   "cell_type": "code",
   "execution_count": 11,
   "id": "02152185",
   "metadata": {},
   "outputs": [
    {
     "data": {
      "text/plain": [
       "str"
      ]
     },
     "execution_count": 11,
     "metadata": {},
     "output_type": "execute_result"
    }
   ],
   "source": [
    "type(\"10.2\")"
   ]
  },
  {
   "cell_type": "code",
   "execution_count": 17,
   "id": "37d19d05",
   "metadata": {},
   "outputs": [],
   "source": [
    "salary = [10.2,7.8,8.9,4.5,6.7]"
   ]
  },
  {
   "cell_type": "code",
   "execution_count": 18,
   "id": "c3ea23d3",
   "metadata": {},
   "outputs": [
    {
     "data": {
      "text/plain": [
       "list"
      ]
     },
     "execution_count": 18,
     "metadata": {},
     "output_type": "execute_result"
    }
   ],
   "source": [
    "type(salary)"
   ]
  },
  {
   "cell_type": "code",
   "execution_count": null,
   "id": "b1484345",
   "metadata": {},
   "outputs": [],
   "source": [
    "#To Store more than 1 value in python,it going to use Data structure\n",
    "#List - []\n",
    "#Tuple - (), without\n",
    "#Set\n",
    "#Dict"
   ]
  },
  {
   "cell_type": "code",
   "execution_count": 19,
   "id": "b755a164",
   "metadata": {},
   "outputs": [
    {
     "data": {
      "text/plain": [
       "'salary'"
      ]
     },
     "execution_count": 19,
     "metadata": {},
     "output_type": "execute_result"
    }
   ],
   "source": [
    "\"salary\" #value"
   ]
  },
  {
   "cell_type": "code",
   "execution_count": 20,
   "id": "fd2610c2",
   "metadata": {},
   "outputs": [
    {
     "data": {
      "text/plain": [
       "[10.2, 7.8, 8.9, 4.5, 6.7]"
      ]
     },
     "execution_count": 20,
     "metadata": {},
     "output_type": "execute_result"
    }
   ],
   "source": [
    "salary #variable"
   ]
  },
  {
   "cell_type": "code",
   "execution_count": 21,
   "id": "7b8816bd",
   "metadata": {},
   "outputs": [
    {
     "ename": "NameError",
     "evalue": "name 'kanth' is not defined",
     "output_type": "error",
     "traceback": [
      "\u001b[1;31m---------------------------------------------------------------------------\u001b[0m",
      "\u001b[1;31mNameError\u001b[0m                                 Traceback (most recent call last)",
      "Cell \u001b[1;32mIn[21], line 1\u001b[0m\n\u001b[1;32m----> 1\u001b[0m kanth\n",
      "\u001b[1;31mNameError\u001b[0m: name 'kanth' is not defined"
     ]
    }
   ],
   "source": [
    "kanth"
   ]
  },
  {
   "cell_type": "code",
   "execution_count": 22,
   "id": "235c71e0",
   "metadata": {},
   "outputs": [],
   "source": [
    "kanth = 10"
   ]
  },
  {
   "cell_type": "code",
   "execution_count": 23,
   "id": "4e2f977a",
   "metadata": {},
   "outputs": [
    {
     "data": {
      "text/plain": [
       "10"
      ]
     },
     "execution_count": 23,
     "metadata": {},
     "output_type": "execute_result"
    }
   ],
   "source": [
    "kanth"
   ]
  },
  {
   "cell_type": "code",
   "execution_count": 24,
   "id": "fc39e747",
   "metadata": {},
   "outputs": [
    {
     "data": {
      "text/plain": [
       "'kanth'"
      ]
     },
     "execution_count": 24,
     "metadata": {},
     "output_type": "execute_result"
    }
   ],
   "source": [
    "'kanth'"
   ]
  },
  {
   "cell_type": "code",
   "execution_count": 25,
   "id": "e45e993d",
   "metadata": {},
   "outputs": [
    {
     "data": {
      "text/plain": [
       "'greesham'"
      ]
     },
     "execution_count": 25,
     "metadata": {},
     "output_type": "execute_result"
    }
   ],
   "source": [
    "'greesham'"
   ]
  },
  {
   "cell_type": "code",
   "execution_count": 27,
   "id": "b750c1d0",
   "metadata": {},
   "outputs": [],
   "source": [
    "students = 'greesham', 'thulasi', 'hariharan', 'tanush', 'teja'"
   ]
  },
  {
   "cell_type": "code",
   "execution_count": 28,
   "id": "e0fcb799",
   "metadata": {},
   "outputs": [
    {
     "data": {
      "text/plain": [
       "('greesham', 'thulasi', 'hariharan', 'tanush', 'teja')"
      ]
     },
     "execution_count": 28,
     "metadata": {},
     "output_type": "execute_result"
    }
   ],
   "source": [
    "students"
   ]
  },
  {
   "cell_type": "code",
   "execution_count": 32,
   "id": "d539ad80",
   "metadata": {},
   "outputs": [],
   "source": [
    "#Keywords - Reserved words in python\n",
    "class1 = [20,30,40,50]"
   ]
  },
  {
   "cell_type": "code",
   "execution_count": null,
   "id": "b609ea57",
   "metadata": {},
   "outputs": [],
   "source": []
  }
 ],
 "metadata": {
  "kernelspec": {
   "display_name": "Python 3 (ipykernel)",
   "language": "python",
   "name": "python3"
  },
  "language_info": {
   "codemirror_mode": {
    "name": "ipython",
    "version": 3
   },
   "file_extension": ".py",
   "mimetype": "text/x-python",
   "name": "python",
   "nbconvert_exporter": "python",
   "pygments_lexer": "ipython3",
   "version": "3.11.5"
  }
 },
 "nbformat": 4,
 "nbformat_minor": 5
}
